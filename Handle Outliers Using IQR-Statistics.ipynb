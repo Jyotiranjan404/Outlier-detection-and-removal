{
 "cells": [
  {
   "cell_type": "markdown",
   "metadata": {},
   "source": [
    "# How To handle Outliers Using IQR-Statistics ?\n"
   ]
  },
  {
   "cell_type": "markdown",
   "metadata": {},
   "source": [
    " To know in my data is having outliers or not. we can visualize each and every Continuous columns by using box plot. \n",
    "*Remember this is not only step to find outliers.\n",
    "\n",
    " To handle outliers in data we need to know 5 Number Summary which is given by box plot.\n",
    "* Minimum \n",
    "* 25%\n",
    "* median\n",
    "* 75%\n",
    "* Maximum\n",
    " \n",
    " \n",
    " If i have data like this,\n",
    "[1,2,3,4,5,6,7,8,9]\n",
    "\n",
    "\n",
    "(1)How to calculate the median ?\n",
    "* To calculate the median we need to reorder this into Ascending & Descending Order.As you can see here its already in Ascending order.and i need to pick the middle value.\n",
    "\n",
    "\n",
    "(2)How to calculate the 25% ?\n",
    "* Formula to calculate this is = 25%*(n+1).\n",
    " \n",
    " \n",
    "(3)How to calculate the 75% ?\n",
    "* Formula to calculate this is = 75%*(n+1).\n",
    " \n",
    " \n",
    "(4)How to calculate the minimum value ?\n",
    "* values which is minimum in my data.Here minimum is 1.\n",
    " \n",
    " \n",
    "(5)How to calculate the maximum ?\n",
    "* value which is maximum in my data.here maximum is 9.\n",
    "\n"
   ]
  },
  {
   "cell_type": "markdown",
   "metadata": {},
   "source": [
    "# How to calculate IQR ? \n",
    "* IQR stands for Inter Quartile Range. Formula for IQR is= 75% -25% (or) Q3-Q1.\n",
    "# How to calculate Inner bracket and outer bracket ?\n",
    "* After calculating IQR, we need to know which range of values i am not going to treat as a outlier.so i need to calculate this two thing which is inner bracket and outer bracket.\n",
    "* Inner bracket= 25% -(1.5)IQR\n",
    "* Outer bracket= 75% +(1.5)IQR\n",
    " "
   ]
  },
  {
   "cell_type": "markdown",
   "metadata": {},
   "source": [
    "# Coding implementation\n"
   ]
  },
  {
   "cell_type": "code",
   "execution_count": 1,
   "metadata": {},
   "outputs": [],
   "source": [
    "import pandas as pd\n",
    "import seaborn as sns\n",
    "import matplotlib.pyplot as plt\n",
    "%matplotlib inline"
   ]
  },
  {
   "cell_type": "code",
   "execution_count": 2,
   "metadata": {},
   "outputs": [
    {
     "data": {
      "text/html": [
       "<div>\n",
       "<style scoped>\n",
       "    .dataframe tbody tr th:only-of-type {\n",
       "        vertical-align: middle;\n",
       "    }\n",
       "\n",
       "    .dataframe tbody tr th {\n",
       "        vertical-align: top;\n",
       "    }\n",
       "\n",
       "    .dataframe thead th {\n",
       "        text-align: right;\n",
       "    }\n",
       "</style>\n",
       "<table border=\"1\" class=\"dataframe\">\n",
       "  <thead>\n",
       "    <tr style=\"text-align: right;\">\n",
       "      <th></th>\n",
       "      <th>Unnamed: 0</th>\n",
       "      <th>Name of Lending Institution</th>\n",
       "      <th>HQ State</th>\n",
       "      <th>Rank</th>\n",
       "      <th>TA Ratio1</th>\n",
       "      <th>TBL Ratio1</th>\n",
       "      <th>Amount ($1,000)</th>\n",
       "      <th>Number</th>\n",
       "      <th>Lender Asset Size</th>\n",
       "      <th>Amount ($1,000).1</th>\n",
       "      <th>Number .1</th>\n",
       "      <th>Amount ($1,000).2</th>\n",
       "      <th>Number .2</th>\n",
       "      <th>CC Amount/TA1</th>\n",
       "    </tr>\n",
       "  </thead>\n",
       "  <tbody>\n",
       "    <tr>\n",
       "      <th>0</th>\n",
       "      <td>1</td>\n",
       "      <td>American Express Co.</td>\n",
       "      <td>NY</td>\n",
       "      <td>1</td>\n",
       "      <td>238.0</td>\n",
       "      <td>1000.0</td>\n",
       "      <td>16350038.0</td>\n",
       "      <td>3603226.0</td>\n",
       "      <td>2</td>\n",
       "      <td>16318089.0</td>\n",
       "      <td>3603088.0</td>\n",
       "      <td>31949.0</td>\n",
       "      <td>138.0</td>\n",
       "      <td>0.28000</td>\n",
       "    </tr>\n",
       "    <tr>\n",
       "      <th>1</th>\n",
       "      <td>2</td>\n",
       "      <td>First Citizens Banchares</td>\n",
       "      <td>NC</td>\n",
       "      <td>2</td>\n",
       "      <td>187.0</td>\n",
       "      <td>491.0</td>\n",
       "      <td>3914507.0</td>\n",
       "      <td>117702.0</td>\n",
       "      <td>1</td>\n",
       "      <td>378394.0</td>\n",
       "      <td>105081.0</td>\n",
       "      <td>3536113.0</td>\n",
       "      <td>12621.0</td>\n",
       "      <td>0.02087</td>\n",
       "    </tr>\n",
       "    <tr>\n",
       "      <th>2</th>\n",
       "      <td>3</td>\n",
       "      <td>Wintrust Financial Corp.</td>\n",
       "      <td>IL</td>\n",
       "      <td>3</td>\n",
       "      <td>169.0</td>\n",
       "      <td>384.0</td>\n",
       "      <td>2842793.0</td>\n",
       "      <td>136801.0</td>\n",
       "      <td>1</td>\n",
       "      <td>800526.0</td>\n",
       "      <td>126455.0</td>\n",
       "      <td>2042267.0</td>\n",
       "      <td>10346.0</td>\n",
       "      <td>0.00000</td>\n",
       "    </tr>\n",
       "    <tr>\n",
       "      <th>3</th>\n",
       "      <td>4</td>\n",
       "      <td>Zions Bancorp</td>\n",
       "      <td>UT</td>\n",
       "      <td>4</td>\n",
       "      <td>118.0</td>\n",
       "      <td>261.0</td>\n",
       "      <td>6231770.0</td>\n",
       "      <td>52612.0</td>\n",
       "      <td>2</td>\n",
       "      <td>526206.0</td>\n",
       "      <td>32973.0</td>\n",
       "      <td>5705564.0</td>\n",
       "      <td>19639.0</td>\n",
       "      <td>0.00000</td>\n",
       "    </tr>\n",
       "    <tr>\n",
       "      <th>4</th>\n",
       "      <td>5</td>\n",
       "      <td>Synovus Financial Corp.</td>\n",
       "      <td>GA</td>\n",
       "      <td>5</td>\n",
       "      <td>162.0</td>\n",
       "      <td>381.0</td>\n",
       "      <td>4227168.0</td>\n",
       "      <td>22675.0</td>\n",
       "      <td>1</td>\n",
       "      <td>539666.0</td>\n",
       "      <td>9593.0</td>\n",
       "      <td>3687502.0</td>\n",
       "      <td>13082.0</td>\n",
       "      <td>0.01000</td>\n",
       "    </tr>\n",
       "  </tbody>\n",
       "</table>\n",
       "</div>"
      ],
      "text/plain": [
       "   Unnamed: 0 Name of Lending Institution HQ State  Rank  TA Ratio1  \\\n",
       "0           1       American Express Co.       NY      1      238.0   \n",
       "1           2    First Citizens Banchares      NC      2      187.0   \n",
       "2           3    Wintrust Financial Corp.      IL      3      169.0   \n",
       "3           4               Zions Bancorp      UT      4      118.0   \n",
       "4           5     Synovus Financial Corp.      GA      5      162.0   \n",
       "\n",
       "   TBL Ratio1  Amount ($1,000)    Number   Lender Asset Size  \\\n",
       "0      1000.0       16350038.0  3603226.0                  2   \n",
       "1       491.0        3914507.0   117702.0                  1   \n",
       "2       384.0        2842793.0   136801.0                  1   \n",
       "3       261.0        6231770.0    52612.0                  2   \n",
       "4       381.0        4227168.0    22675.0                  1   \n",
       "\n",
       "   Amount ($1,000).1  Number .1  Amount ($1,000).2  Number .2  CC Amount/TA1  \n",
       "0         16318089.0  3603088.0            31949.0      138.0        0.28000  \n",
       "1           378394.0   105081.0          3536113.0    12621.0        0.02087  \n",
       "2           800526.0   126455.0          2042267.0    10346.0        0.00000  \n",
       "3           526206.0    32973.0          5705564.0    19639.0        0.00000  \n",
       "4           539666.0     9593.0          3687502.0    13082.0        0.01000  "
      ]
     },
     "execution_count": 2,
     "metadata": {},
     "output_type": "execute_result"
    }
   ],
   "source": [
    "df=pd.read_csv(r\"C:\\Users\\Jyotiranjan padhi\\Desktop\\data folder\\updated_Lending_Data.csv\")\n",
    "df.head()"
   ]
  },
  {
   "cell_type": "code",
   "execution_count": 3,
   "metadata": {},
   "outputs": [
    {
     "name": "stdout",
     "output_type": "stream",
     "text": [
      "(81, 1)\n"
     ]
    }
   ],
   "source": [
    "df1 = pd.pivot_table(df, index=[\"Rank\"],values=['Number '])\n",
    "print(df1.shape)"
   ]
  },
  {
   "cell_type": "code",
   "execution_count": 4,
   "metadata": {},
   "outputs": [
    {
     "data": {
      "text/plain": [
       "Index(['Number '], dtype='object')"
      ]
     },
     "execution_count": 4,
     "metadata": {},
     "output_type": "execute_result"
    }
   ],
   "source": [
    "df1.columns"
   ]
  },
  {
   "cell_type": "code",
   "execution_count": 5,
   "metadata": {},
   "outputs": [
    {
     "data": {
      "text/html": [
       "<div>\n",
       "<style scoped>\n",
       "    .dataframe tbody tr th:only-of-type {\n",
       "        vertical-align: middle;\n",
       "    }\n",
       "\n",
       "    .dataframe tbody tr th {\n",
       "        vertical-align: top;\n",
       "    }\n",
       "\n",
       "    .dataframe thead th {\n",
       "        text-align: right;\n",
       "    }\n",
       "</style>\n",
       "<table border=\"1\" class=\"dataframe\">\n",
       "  <thead>\n",
       "    <tr style=\"text-align: right;\">\n",
       "      <th></th>\n",
       "      <th>Number</th>\n",
       "    </tr>\n",
       "  </thead>\n",
       "  <tbody>\n",
       "    <tr>\n",
       "      <th>count</th>\n",
       "      <td>8.100000e+01</td>\n",
       "    </tr>\n",
       "    <tr>\n",
       "      <th>mean</th>\n",
       "      <td>1.998339e+05</td>\n",
       "    </tr>\n",
       "    <tr>\n",
       "      <th>std</th>\n",
       "      <td>6.415533e+05</td>\n",
       "    </tr>\n",
       "    <tr>\n",
       "      <th>min</th>\n",
       "      <td>2.000000e+00</td>\n",
       "    </tr>\n",
       "    <tr>\n",
       "      <th>25%</th>\n",
       "      <td>3.134000e+03</td>\n",
       "    </tr>\n",
       "    <tr>\n",
       "      <th>50%</th>\n",
       "      <td>1.379900e+04</td>\n",
       "    </tr>\n",
       "    <tr>\n",
       "      <th>75%</th>\n",
       "      <td>5.754300e+04</td>\n",
       "    </tr>\n",
       "    <tr>\n",
       "      <th>max</th>\n",
       "      <td>3.603226e+06</td>\n",
       "    </tr>\n",
       "  </tbody>\n",
       "</table>\n",
       "</div>"
      ],
      "text/plain": [
       "            Number \n",
       "count  8.100000e+01\n",
       "mean   1.998339e+05\n",
       "std    6.415533e+05\n",
       "min    2.000000e+00\n",
       "25%    3.134000e+03\n",
       "50%    1.379900e+04\n",
       "75%    5.754300e+04\n",
       "max    3.603226e+06"
      ]
     },
     "execution_count": 5,
     "metadata": {},
     "output_type": "execute_result"
    }
   ],
   "source": [
    "df1.describe()"
   ]
  },
  {
   "cell_type": "code",
   "execution_count": 6,
   "metadata": {},
   "outputs": [
    {
     "name": "stderr",
     "output_type": "stream",
     "text": [
      "C:\\anaconda\\lib\\site-packages\\seaborn\\_decorators.py:36: FutureWarning: Pass the following variable as a keyword arg: x. From version 0.12, the only valid positional argument will be `data`, and passing other arguments without an explicit keyword will result in an error or misinterpretation.\n",
      "  warnings.warn(\n"
     ]
    },
    {
     "data": {
      "text/plain": [
       "<AxesSubplot:xlabel='Number '>"
      ]
     },
     "execution_count": 6,
     "metadata": {},
     "output_type": "execute_result"
    },
    {
     "data": {
      "image/png": "[encoded data removed]",
      "text/plain": [
       "<Figure size 1080x720 with 1 Axes>"
      ]
     },
     "metadata": {
      "needs_background": "light"
     },
     "output_type": "display_data"
    }
   ],
   "source": [
    "plt.figure(figsize=(15,10))\n",
    "sns.boxplot(df1['Number '])"
   ]
  },
  {
   "cell_type": "code",
   "execution_count": 7,
   "metadata": {},
   "outputs": [
    {
     "name": "stdout",
     "output_type": "stream",
     "text": [
      "3134.0 57543.0 54409.0\n"
     ]
    }
   ],
   "source": [
    "#Here you can see there are so many outliers which is represented with dimond shape\n",
    "q1=df1['Number '].quantile(0.25)\n",
    "q3=df1['Number '].quantile(0.75)\n",
    "iqr=q3-q1\n",
    "print(q1,q3,iqr)"
   ]
  },
  {
   "cell_type": "code",
   "execution_count": 8,
   "metadata": {},
   "outputs": [
    {
     "name": "stdout",
     "output_type": "stream",
     "text": [
      "-78479.5 139156.5\n"
     ]
    }
   ],
   "source": [
    "lower_bracket=q1 -1.5 * iqr\n",
    "upper_bracket=q3 +1.5 * iqr\n",
    "print(lower_bracket,upper_bracket)"
   ]
  },
  {
   "cell_type": "code",
   "execution_count": 9,
   "metadata": {},
   "outputs": [
    {
     "data": {
      "text/html": [
       "<div>\n",
       "<style scoped>\n",
       "    .dataframe tbody tr th:only-of-type {\n",
       "        vertical-align: middle;\n",
       "    }\n",
       "\n",
       "    .dataframe tbody tr th {\n",
       "        vertical-align: top;\n",
       "    }\n",
       "\n",
       "    .dataframe thead th {\n",
       "        text-align: right;\n",
       "    }\n",
       "</style>\n",
       "<table border=\"1\" class=\"dataframe\">\n",
       "  <thead>\n",
       "    <tr style=\"text-align: right;\">\n",
       "      <th></th>\n",
       "      <th>Number</th>\n",
       "    </tr>\n",
       "    <tr>\n",
       "      <th>Rank</th>\n",
       "      <th></th>\n",
       "    </tr>\n",
       "  </thead>\n",
       "  <tbody>\n",
       "    <tr>\n",
       "      <th>0</th>\n",
       "      <td>1.731354e+05</td>\n",
       "    </tr>\n",
       "    <tr>\n",
       "      <th>1</th>\n",
       "      <td>3.603226e+06</td>\n",
       "    </tr>\n",
       "    <tr>\n",
       "      <th>6</th>\n",
       "      <td>5.068790e+05</td>\n",
       "    </tr>\n",
       "    <tr>\n",
       "      <th>8</th>\n",
       "      <td>1.467326e+06</td>\n",
       "    </tr>\n",
       "    <tr>\n",
       "      <th>11</th>\n",
       "      <td>4.517305e+05</td>\n",
       "    </tr>\n",
       "    <tr>\n",
       "      <th>17</th>\n",
       "      <td>7.162310e+05</td>\n",
       "    </tr>\n",
       "    <tr>\n",
       "      <th>18</th>\n",
       "      <td>2.893892e+06</td>\n",
       "    </tr>\n",
       "    <tr>\n",
       "      <th>19</th>\n",
       "      <td>5.961083e+05</td>\n",
       "    </tr>\n",
       "    <tr>\n",
       "      <th>23</th>\n",
       "      <td>3.277274e+06</td>\n",
       "    </tr>\n",
       "    <tr>\n",
       "      <th>26</th>\n",
       "      <td>1.695390e+05</td>\n",
       "    </tr>\n",
       "    <tr>\n",
       "      <th>27</th>\n",
       "      <td>6.175080e+05</td>\n",
       "    </tr>\n",
       "    <tr>\n",
       "      <th>28</th>\n",
       "      <td>2.202000e+05</td>\n",
       "    </tr>\n",
       "  </tbody>\n",
       "</table>\n",
       "</div>"
      ],
      "text/plain": [
       "           Number \n",
       "Rank              \n",
       "0     1.731354e+05\n",
       "1     3.603226e+06\n",
       "6     5.068790e+05\n",
       "8     1.467326e+06\n",
       "11    4.517305e+05\n",
       "17    7.162310e+05\n",
       "18    2.893892e+06\n",
       "19    5.961083e+05\n",
       "23    3.277274e+06\n",
       "26    1.695390e+05\n",
       "27    6.175080e+05\n",
       "28    2.202000e+05"
      ]
     },
     "execution_count": 9,
     "metadata": {},
     "output_type": "execute_result"
    }
   ],
   "source": [
    "df1[(df1['Number ']<lower_bracket)|(df1['Number ']>upper_bracket)]"
   ]
  },
  {
   "cell_type": "code",
   "execution_count": 10,
   "metadata": {},
   "outputs": [
    {
     "data": {
      "text/html": [
       "<div>\n",
       "<style scoped>\n",
       "    .dataframe tbody tr th:only-of-type {\n",
       "        vertical-align: middle;\n",
       "    }\n",
       "\n",
       "    .dataframe tbody tr th {\n",
       "        vertical-align: top;\n",
       "    }\n",
       "\n",
       "    .dataframe thead th {\n",
       "        text-align: right;\n",
       "    }\n",
       "</style>\n",
       "<table border=\"1\" class=\"dataframe\">\n",
       "  <thead>\n",
       "    <tr style=\"text-align: right;\">\n",
       "      <th></th>\n",
       "      <th>Number</th>\n",
       "    </tr>\n",
       "    <tr>\n",
       "      <th>Rank</th>\n",
       "      <th></th>\n",
       "    </tr>\n",
       "  </thead>\n",
       "  <tbody>\n",
       "    <tr>\n",
       "      <th>2</th>\n",
       "      <td>117702.0</td>\n",
       "    </tr>\n",
       "    <tr>\n",
       "      <th>3</th>\n",
       "      <td>136801.0</td>\n",
       "    </tr>\n",
       "    <tr>\n",
       "      <th>4</th>\n",
       "      <td>52612.0</td>\n",
       "    </tr>\n",
       "    <tr>\n",
       "      <th>5</th>\n",
       "      <td>22675.0</td>\n",
       "    </tr>\n",
       "    <tr>\n",
       "      <th>7</th>\n",
       "      <td>25011.0</td>\n",
       "    </tr>\n",
       "    <tr>\n",
       "      <th>...</th>\n",
       "      <td>...</td>\n",
       "    </tr>\n",
       "    <tr>\n",
       "      <th>84</th>\n",
       "      <td>405.0</td>\n",
       "    </tr>\n",
       "    <tr>\n",
       "      <th>85</th>\n",
       "      <td>406.0</td>\n",
       "    </tr>\n",
       "    <tr>\n",
       "      <th>86</th>\n",
       "      <td>351.0</td>\n",
       "    </tr>\n",
       "    <tr>\n",
       "      <th>87</th>\n",
       "      <td>6.0</td>\n",
       "    </tr>\n",
       "    <tr>\n",
       "      <th>88</th>\n",
       "      <td>4.0</td>\n",
       "    </tr>\n",
       "  </tbody>\n",
       "</table>\n",
       "<p>69 rows × 1 columns</p>\n",
       "</div>"
      ],
      "text/plain": [
       "       Number \n",
       "Rank          \n",
       "2     117702.0\n",
       "3     136801.0\n",
       "4      52612.0\n",
       "5      22675.0\n",
       "7      25011.0\n",
       "...        ...\n",
       "84       405.0\n",
       "85       406.0\n",
       "86       351.0\n",
       "87         6.0\n",
       "88         4.0\n",
       "\n",
       "[69 rows x 1 columns]"
      ]
     },
     "execution_count": 10,
     "metadata": {},
     "output_type": "execute_result"
    }
   ],
   "source": [
    "no_outlier = df1[(df1['Number ']>lower_bracket)&(df1['Number ']<upper_bracket)]\n",
    "no_outlier"
   ]
  },
  {
   "cell_type": "markdown",
   "metadata": {},
   "source": [
    "# Steps we followed here\n",
    "1. Importing data\n",
    "2. Creating pivot table which contains \"Number\"\n",
    "3. Box plot to find outliers.\n",
    "4. Describe \"Number\" by using pandas function \".describe()\"\n",
    "5. Find the q1,q2 which is 25% and 75%.\n",
    "6. Find IQR.\n",
    "7. Calculating lower bracket and upper bracket.\n",
    "8. Filtering data to know which are the outliers.\n",
    "9. Remove the outliers and store in a veriable."
   ]
  },
  {
   "cell_type": "code",
   "execution_count": null,
   "metadata": {},
   "outputs": [],
   "source": []
  }
 ],
 "metadata": {
  "kernelspec": {
   "display_name": "Python 3",
   "language": "python",
   "name": "python3"
  },
  "language_info": {
   "codemirror_mode": {
    "name": "ipython",
    "version": 3
   },
   "file_extension": ".py",
   "mimetype": "text/x-python",
   "name": "python",
   "nbconvert_exporter": "python",
   "pygments_lexer": "ipython3",
   "version": "3.8.5"
  }
 },
 "nbformat": 4,
 "nbformat_minor": 4
}
